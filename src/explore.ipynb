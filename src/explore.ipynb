{
    "cells": [
        {
            "cell_type": "markdown",
            "metadata": {},
            "source": [
                "# Explore here"
            ]
        },
        {
            "cell_type": "code",
            "execution_count": 1,
            "metadata": {},
            "outputs": [],
            "source": [
                "import os\n",
                "import pandas as pd\n",
                "import matplotlib.pyplot as plt\n",
                "import spotipy\n",
                "from spotipy.oauth2 import SpotifyClientCredentials\n",
                "from dotenv import load_dotenv,find_dotenv\n",
                "\n",
                "# load the .env file variables\n",
                "load_dotenv(\".env\", override=True)\n",
                "\n",
                "\n",
                "CLIENT_ID = os.getenv(\"CLIENT_ID\")\n",
                "CLIENT_SECRET = os.getenv(\"CLIENT_SECRET\")\n",
                "\n"
            ]
        },
        {
            "cell_type": "code",
            "execution_count": null,
            "metadata": {},
            "outputs": [],
            "source": [
                "#http://127.0.0.1:8000/callback"
            ]
        },
        {
            "cell_type": "code",
            "execution_count": 74,
            "metadata": {},
            "outputs": [],
            "source": [
                "auth_manager = SpotifyClientCredentials(client_id=CLIENT_ID, client_secret=CLIENT_SECRET)\n",
                "spotify = spotipy.Spotify(auth_manager=auth_manager)"
            ]
        },
        {
            "cell_type": "code",
            "execution_count": 75,
            "metadata": {},
            "outputs": [],
            "source": [
                "conociendo_rusia_uri = '79R7PUc6T6j09G8mJzNml2'"
            ]
        },
        {
            "cell_type": "code",
            "execution_count": 76,
            "metadata": {},
            "outputs": [],
            "source": [
                "results = spotify.artist_top_tracks(conociendo_rusia_uri)"
            ]
        },
        {
            "cell_type": "code",
            "execution_count": 77,
            "metadata": {},
            "outputs": [
                {
                    "name": "stdout",
                    "output_type": "stream",
                    "text": [
                        "cancion: Esto Es Amor\n",
                        "popularidad: 64\n",
                        "duracion: 4.6 minutos\n",
                        "--------------------------------------------------------\n",
                        "cancion: Quiero Que Me Llames\n",
                        "popularidad: 59\n",
                        "duracion: 4.3 minutos\n",
                        "--------------------------------------------------------\n",
                        "cancion: Magia Blanca\n",
                        "popularidad: 52\n",
                        "duracion: 3.7 minutos\n",
                        "--------------------------------------------------------\n",
                        "cancion: Loco en el Desierto\n",
                        "popularidad: 58\n",
                        "duracion: 4.3 minutos\n",
                        "--------------------------------------------------------\n",
                        "cancion: Puede Ser\n",
                        "popularidad: 57\n",
                        "duracion: 3.8 minutos\n",
                        "--------------------------------------------------------\n",
                        "cancion: Desastres Fabulosos\n",
                        "popularidad: 56\n",
                        "duracion: 2.7 minutos\n",
                        "--------------------------------------------------------\n",
                        "cancion: A la Vez\n",
                        "popularidad: 56\n",
                        "duracion: 3.0 minutos\n",
                        "--------------------------------------------------------\n",
                        "cancion: Cabildo y Juramento\n",
                        "popularidad: 56\n",
                        "duracion: 3.4 minutos\n",
                        "--------------------------------------------------------\n",
                        "cancion: Triste\n",
                        "popularidad: 54\n",
                        "duracion: 3.1 minutos\n",
                        "--------------------------------------------------------\n",
                        "cancion: Cinco Horas Menos\n",
                        "popularidad: 54\n",
                        "duracion: 3.4 minutos\n",
                        "--------------------------------------------------------\n"
                    ]
                }
            ],
            "source": [
                "def infoartista():\n",
                "    for track in results['tracks'][:10]:\n",
                "        print('cancion: ' +track['name'])\n",
                "        print('popularidad: ' +str(track['popularity']))\n",
                "        print('duracion: ' +(str(round(track['duration_ms']/60000,1)) + ' minutos'))\n",
                "        print('--------------------------------------------------------')\n",
                "\n",
                "infoartista()\n",
                "    "
            ]
        },
        {
            "cell_type": "code",
            "execution_count": 78,
            "metadata": {},
            "outputs": [
                {
                    "data": {
                        "text/plain": [
                            "[{'cancion ': 'Esto Es Amor', 'popularidad: ': '64', 'duracion: ': '4.6'},\n",
                            " {'cancion ': 'Quiero Que Me Llames',\n",
                            "  'popularidad: ': '59',\n",
                            "  'duracion: ': '4.3'},\n",
                            " {'cancion ': 'Magia Blanca', 'popularidad: ': '52', 'duracion: ': '3.7'},\n",
                            " {'cancion ': 'Loco en el Desierto',\n",
                            "  'popularidad: ': '58',\n",
                            "  'duracion: ': '4.3'},\n",
                            " {'cancion ': 'Puede Ser', 'popularidad: ': '57', 'duracion: ': '3.8'},\n",
                            " {'cancion ': 'Desastres Fabulosos',\n",
                            "  'popularidad: ': '56',\n",
                            "  'duracion: ': '2.7'},\n",
                            " {'cancion ': 'A la Vez', 'popularidad: ': '56', 'duracion: ': '3.0'},\n",
                            " {'cancion ': 'Cabildo y Juramento',\n",
                            "  'popularidad: ': '56',\n",
                            "  'duracion: ': '3.4'},\n",
                            " {'cancion ': 'Triste', 'popularidad: ': '54', 'duracion: ': '3.1'},\n",
                            " {'cancion ': 'Cinco Horas Menos', 'popularidad: ': '54', 'duracion: ': '3.4'}]"
                        ]
                    },
                    "execution_count": 78,
                    "metadata": {},
                    "output_type": "execute_result"
                }
            ],
            "source": [
                "def x():\n",
                "    data = []\n",
                "    for track in results['tracks'][:10]:\n",
                "        data.append({'cancion ': track['name'],'popularidad: ': str(track['popularity']), 'duracion: ': (str(round(track['duration_ms']/60000,1))) })\n",
                "    return data \n",
                "\n",
                "x()\n",
                "\n",
                "\n",
                "\n"
            ]
        },
        {
            "cell_type": "code",
            "execution_count": 79,
            "metadata": {},
            "outputs": [
                {
                    "data": {
                        "text/html": [
                            "<div>\n",
                            "<style scoped>\n",
                            "    .dataframe tbody tr th:only-of-type {\n",
                            "        vertical-align: middle;\n",
                            "    }\n",
                            "\n",
                            "    .dataframe tbody tr th {\n",
                            "        vertical-align: top;\n",
                            "    }\n",
                            "\n",
                            "    .dataframe thead th {\n",
                            "        text-align: right;\n",
                            "    }\n",
                            "</style>\n",
                            "<table border=\"1\" class=\"dataframe\">\n",
                            "  <thead>\n",
                            "    <tr style=\"text-align: right;\">\n",
                            "      <th></th>\n",
                            "      <th>cancion</th>\n",
                            "      <th>popularidad:</th>\n",
                            "      <th>duracion:</th>\n",
                            "    </tr>\n",
                            "  </thead>\n",
                            "  <tbody>\n",
                            "    <tr>\n",
                            "      <th>0</th>\n",
                            "      <td>Esto Es Amor</td>\n",
                            "      <td>64</td>\n",
                            "      <td>4.6</td>\n",
                            "    </tr>\n",
                            "    <tr>\n",
                            "      <th>1</th>\n",
                            "      <td>Quiero Que Me Llames</td>\n",
                            "      <td>59</td>\n",
                            "      <td>4.3</td>\n",
                            "    </tr>\n",
                            "    <tr>\n",
                            "      <th>3</th>\n",
                            "      <td>Loco en el Desierto</td>\n",
                            "      <td>58</td>\n",
                            "      <td>4.3</td>\n",
                            "    </tr>\n",
                            "    <tr>\n",
                            "      <th>4</th>\n",
                            "      <td>Puede Ser</td>\n",
                            "      <td>57</td>\n",
                            "      <td>3.8</td>\n",
                            "    </tr>\n",
                            "    <tr>\n",
                            "      <th>5</th>\n",
                            "      <td>Desastres Fabulosos</td>\n",
                            "      <td>56</td>\n",
                            "      <td>2.7</td>\n",
                            "    </tr>\n",
                            "    <tr>\n",
                            "      <th>6</th>\n",
                            "      <td>A la Vez</td>\n",
                            "      <td>56</td>\n",
                            "      <td>3.0</td>\n",
                            "    </tr>\n",
                            "    <tr>\n",
                            "      <th>7</th>\n",
                            "      <td>Cabildo y Juramento</td>\n",
                            "      <td>56</td>\n",
                            "      <td>3.4</td>\n",
                            "    </tr>\n",
                            "    <tr>\n",
                            "      <th>8</th>\n",
                            "      <td>Triste</td>\n",
                            "      <td>54</td>\n",
                            "      <td>3.1</td>\n",
                            "    </tr>\n",
                            "    <tr>\n",
                            "      <th>9</th>\n",
                            "      <td>Cinco Horas Menos</td>\n",
                            "      <td>54</td>\n",
                            "      <td>3.4</td>\n",
                            "    </tr>\n",
                            "    <tr>\n",
                            "      <th>2</th>\n",
                            "      <td>Magia Blanca</td>\n",
                            "      <td>52</td>\n",
                            "      <td>3.7</td>\n",
                            "    </tr>\n",
                            "  </tbody>\n",
                            "</table>\n",
                            "</div>"
                        ],
                        "text/plain": [
                            "               cancion  popularidad:  duracion: \n",
                            "0          Esto Es Amor            64        4.6\n",
                            "1  Quiero Que Me Llames            59        4.3\n",
                            "3   Loco en el Desierto            58        4.3\n",
                            "4             Puede Ser            57        3.8\n",
                            "5   Desastres Fabulosos            56        2.7\n",
                            "6              A la Vez            56        3.0\n",
                            "7   Cabildo y Juramento            56        3.4\n",
                            "8                Triste            54        3.1\n",
                            "9     Cinco Horas Menos            54        3.4\n",
                            "2          Magia Blanca            52        3.7"
                        ]
                    },
                    "execution_count": 79,
                    "metadata": {},
                    "output_type": "execute_result"
                }
            ],
            "source": [
                "#transformar a dataframe \n",
                "df = pd.DataFrame.from_dict(x())\n",
                "\n",
                "#df ordenado por popularidad creciente \n",
                "\n",
                "ascend_pop = df.sort_values(by='popularidad: ',ascending= False)\n",
                "\n",
                "ascend_pop\n"
            ]
        },
        {
            "cell_type": "code",
            "execution_count": 80,
            "metadata": {},
            "outputs": [
                {
                    "data": {
                        "text/html": [
                            "<div>\n",
                            "<style scoped>\n",
                            "    .dataframe tbody tr th:only-of-type {\n",
                            "        vertical-align: middle;\n",
                            "    }\n",
                            "\n",
                            "    .dataframe tbody tr th {\n",
                            "        vertical-align: top;\n",
                            "    }\n",
                            "\n",
                            "    .dataframe thead th {\n",
                            "        text-align: right;\n",
                            "    }\n",
                            "</style>\n",
                            "<table border=\"1\" class=\"dataframe\">\n",
                            "  <thead>\n",
                            "    <tr style=\"text-align: right;\">\n",
                            "      <th></th>\n",
                            "      <th>cancion</th>\n",
                            "      <th>popularidad:</th>\n",
                            "      <th>duracion:</th>\n",
                            "    </tr>\n",
                            "  </thead>\n",
                            "  <tbody>\n",
                            "    <tr>\n",
                            "      <th>0</th>\n",
                            "      <td>Esto Es Amor</td>\n",
                            "      <td>64</td>\n",
                            "      <td>4.6</td>\n",
                            "    </tr>\n",
                            "    <tr>\n",
                            "      <th>1</th>\n",
                            "      <td>Quiero Que Me Llames</td>\n",
                            "      <td>59</td>\n",
                            "      <td>4.3</td>\n",
                            "    </tr>\n",
                            "    <tr>\n",
                            "      <th>2</th>\n",
                            "      <td>Magia Blanca</td>\n",
                            "      <td>52</td>\n",
                            "      <td>3.7</td>\n",
                            "    </tr>\n",
                            "  </tbody>\n",
                            "</table>\n",
                            "</div>"
                        ],
                        "text/plain": [
                            "               cancion  popularidad:  duracion: \n",
                            "0          Esto Es Amor            64        4.6\n",
                            "1  Quiero Que Me Llames            59        4.3\n",
                            "2          Magia Blanca            52        3.7"
                        ]
                    },
                    "execution_count": 80,
                    "metadata": {},
                    "output_type": "execute_result"
                }
            ],
            "source": [
                "#top 3 resultante despues del sort por  popularidad \n",
                "\n",
                "top3 = df.head(3)\n",
                "\n",
                "top3"
            ]
        },
        {
            "cell_type": "code",
            "execution_count": 84,
            "metadata": {},
            "outputs": [
                {
                    "data": {
                        "image/png": "[encoded data removed]",
                        "text/plain": [
                            "<Figure size 640x480 with 1 Axes>"
                        ]
                    },
                    "metadata": {},
                    "output_type": "display_data"
                }
            ],
            "source": [
                "#scatter graph correlacion entre duracion y popularidad \n",
                "x = df['duracion: ']\n",
                "y = df['popularidad: ']\n",
                "\n",
                "plt.scatter(x,y)\n",
                "plt.title('Correlación entre duración y popularidad')\n",
                "plt.xlabel('Duración')\n",
                "plt.ylabel('Popularidad')\n",
                "plt.gca().invert_yaxis()\n",
                "plt.gca().invert_xaxis()\n",
                "plt.show()"
            ]
        },
        {
            "cell_type": "code",
            "execution_count": null,
            "metadata": {},
            "outputs": [],
            "source": [
                "#la correlacion entre el tiempo de duracion y la popularidad es positiva. Es decir, mientras mas dura la cancion, mas popular es. Sin embargo, hay tramos en los que la relacion es constante."
            ]
        }
    ],
    "metadata": {
        "kernelspec": {
            "display_name": "Python 3",
            "language": "python",
            "name": "python3"
        },
        "language_info": {
            "codemirror_mode": {
                "name": "ipython",
                "version": 3
            },
            "file_extension": ".py",
            "mimetype": "text/x-python",
            "name": "python",
            "nbconvert_exporter": "python",
            "pygments_lexer": "ipython3",
            "version": "3.11.4"
        },
        "orig_nbformat": 4
    },
    "nbformat": 4,
    "nbformat_minor": 2
}
